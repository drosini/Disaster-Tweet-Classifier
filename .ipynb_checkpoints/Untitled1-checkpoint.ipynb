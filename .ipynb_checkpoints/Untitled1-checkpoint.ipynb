{
 "cells": [
  {
   "cell_type": "code",
   "execution_count": 71,
   "id": "f45cce31",
   "metadata": {},
   "outputs": [],
   "source": [
    "import pandas as pd\n",
    "import nltk\n",
    "import tensorflow as tf\n",
    "import keras\n"
   ]
  },
  {
   "cell_type": "markdown",
   "id": "016d592d",
   "metadata": {},
   "source": [
    "## Importing and Splitting Data"
   ]
  },
  {
   "cell_type": "code",
   "execution_count": 34,
   "id": "1753eb6d",
   "metadata": {},
   "outputs": [],
   "source": [
    "dataPath = r'C:\\Users\\drosi\\Desktop\\School\\NLP\\Final\\data\\train.csv'\n",
    "\n",
    "data = pd.read_csv(dataPath)\n",
    "\n",
    "texts = data['text']\n",
    "targets = data['target']"
   ]
  },
  {
   "cell_type": "code",
   "execution_count": null,
   "id": "3848d719",
   "metadata": {},
   "outputs": [],
   "source": []
  },
  {
   "cell_type": "markdown",
   "id": "e0082356",
   "metadata": {},
   "source": [
    "## Data Preprocessing"
   ]
  },
  {
   "cell_type": "code",
   "execution_count": 52,
   "id": "ad7cef6c",
   "metadata": {},
   "outputs": [],
   "source": [
    "import re\n",
    "import string\n",
    "from nltk.corpus import stopwords\n",
    "\n",
    "def clean_text(tweet):\n",
    "    tweet = tweet.lower() #text to lowercase\n",
    "    tweet = re.sub(r'\\$\\w*', '', str(tweet)) #remove stock market symbols\n",
    "    tweet = re.sub(r'^RT[\\s]+', '', str(tweet)) #remove RT or Retweet symbols\n",
    "    tweet = re.sub(r'https?:\\/\\/.*[\\r\\n]*', '', str(tweet)) #remove links\n",
    "    tweet = re.sub(r'#', '', str(tweet)) #remove # or Hashtag symbols\n",
    "    return tweet\n",
    "\n",
    "def clean_punctuation(tweet):\n",
    "    tweet = \"\".join(word for word in tweet if word not in set(string.punctuation))\n",
    "    return tweet\n",
    "\n",
    "def clean_stopwords(tweet):\n",
    "    STOPWORDS = set(stopwords.words(\"english\"))\n",
    "    tweet = \" \".join(word for word in tweet.split() if word not in STOPWORDS)\n",
    "    return tweet\n",
    "\n",
    "def clean_tweet(tweet):\n",
    "    tweet = clean_text(tweet)\n",
    "    tweet = clean_punctuation(tweet)\n",
    "    tweet = clean_stopwords(tweet)\n",
    "    return tweet"
   ]
  },
  {
   "cell_type": "code",
   "execution_count": 54,
   "id": "af06faff",
   "metadata": {},
   "outputs": [],
   "source": [
    "for i in range(len(texts)):  \n",
    "    tweet = x_train.iloc[i]\n",
    "    tweet = clean_tweet(tweet)\n",
    "    x_train.iloc[i] = tweet"
   ]
  },
  {
   "cell_type": "code",
   "execution_count": null,
   "id": "e34874ae",
   "metadata": {},
   "outputs": [],
   "source": [
    "from sklearn.model_selection import train_test_split\n",
    "\n",
    "x_train, x_test, y_train, y_test =  train_test_split(texts, targets, test_size = 0.20, train_size = 0.80)\n",
    "\n",
    "print('x_train --> ', x_train.shape)\n",
    "print('y_train --> ', y_train.shape)\n",
    "print('x_test --> ', x_test.shape)\n",
    "print('y_test --> ', y_test.shape)"
   ]
  },
  {
   "cell_type": "code",
   "execution_count": 70,
   "id": "4a33e481",
   "metadata": {},
   "outputs": [
    {
     "name": "stdout",
     "output_type": "stream",
     "text": [
      "6090\n"
     ]
    }
   ],
   "source": [
    "from nltk.tokenize import word_tokenize\n",
    "\n",
    "corpus = []\n",
    "for sentence in x_train:\n",
    "    words = [word.lower() for word in word_tokenize(sentence)] \n",
    "    corpus.append(words)\n",
    "num_words = len(corpus)\n",
    "print(num_words)\n"
   ]
  },
  {
   "cell_type": "code",
   "execution_count": 72,
   "id": "95abf4c3",
   "metadata": {},
   "outputs": [
    {
     "ename": "NameError",
     "evalue": "name 'X_train' is not defined",
     "output_type": "error",
     "traceback": [
      "\u001b[1;31m---------------------------------------------------------------------------\u001b[0m",
      "\u001b[1;31mNameError\u001b[0m                                 Traceback (most recent call last)",
      "\u001b[1;32m<ipython-input-72-ee2b6405c8ad>\u001b[0m in \u001b[0;36m<module>\u001b[1;34m\u001b[0m\n\u001b[0;32m      4\u001b[0m \u001b[0mmax_len\u001b[0m \u001b[1;33m=\u001b[0m \u001b[1;36m32\u001b[0m\u001b[1;33m\u001b[0m\u001b[1;33m\u001b[0m\u001b[0m\n\u001b[0;32m      5\u001b[0m \u001b[0mtokenizer\u001b[0m \u001b[1;33m=\u001b[0m \u001b[0mTokenizer\u001b[0m\u001b[1;33m(\u001b[0m\u001b[0mnum_words\u001b[0m\u001b[1;33m)\u001b[0m\u001b[1;33m\u001b[0m\u001b[1;33m\u001b[0m\u001b[0m\n\u001b[1;32m----> 6\u001b[1;33m \u001b[0mtokenizer\u001b[0m\u001b[1;33m.\u001b[0m\u001b[0mfit_on_texts\u001b[0m\u001b[1;33m(\u001b[0m\u001b[0mX_train\u001b[0m\u001b[1;33m)\u001b[0m\u001b[1;33m\u001b[0m\u001b[1;33m\u001b[0m\u001b[0m\n\u001b[0m\u001b[0;32m      7\u001b[0m \u001b[0mX_train\u001b[0m \u001b[1;33m=\u001b[0m \u001b[0mtokenizer\u001b[0m\u001b[1;33m.\u001b[0m\u001b[0mtexts_to_sequences\u001b[0m\u001b[1;33m(\u001b[0m\u001b[0mX_train\u001b[0m\u001b[1;33m)\u001b[0m\u001b[1;33m\u001b[0m\u001b[1;33m\u001b[0m\u001b[0m\n\u001b[0;32m      8\u001b[0m \u001b[0mX_train\u001b[0m \u001b[1;33m=\u001b[0m \u001b[0mpad_sequences\u001b[0m\u001b[1;33m(\u001b[0m\u001b[0mX_train\u001b[0m\u001b[1;33m,\u001b[0m \u001b[0mmaxlen\u001b[0m\u001b[1;33m=\u001b[0m\u001b[0mmax_len\u001b[0m\u001b[1;33m,\u001b[0m \u001b[0mtruncating\u001b[0m\u001b[1;33m=\u001b[0m\u001b[1;34m'post'\u001b[0m\u001b[1;33m,\u001b[0m \u001b[0mpadding\u001b[0m\u001b[1;33m=\u001b[0m\u001b[1;34m'post'\u001b[0m\u001b[1;33m)\u001b[0m\u001b[1;33m\u001b[0m\u001b[1;33m\u001b[0m\u001b[0m\n",
      "\u001b[1;31mNameError\u001b[0m: name 'X_train' is not defined"
     ]
    }
   ],
   "source": [
    "from keras.preprocessing.text import Tokenizer\n",
    "from keras.preprocessing.sequence import pad_sequences\n",
    "\n",
    "max_len = 32\n",
    "tokenizer = Tokenizer(num_words)\n",
    "tokenizer.fit_on_texts(x_train)\n",
    "X_train = tokenizer.texts_to_sequences(x_train)\n",
    "X_train = pad_sequences(x_train, maxlen = max_len, truncating='post', padding='post')\n",
    "X_test = tokenizer.texts_to_sequences(x_test)\n",
    "X_test = pad_sequences(x_test, maxlen = max_len, truncating='post', padding='post')"
   ]
  },
  {
   "cell_type": "code",
   "execution_count": null,
   "id": "45884c7c",
   "metadata": {},
   "outputs": [],
   "source": []
  },
  {
   "cell_type": "code",
   "execution_count": null,
   "id": "ca22b395",
   "metadata": {},
   "outputs": [],
   "source": []
  },
  {
   "cell_type": "code",
   "execution_count": null,
   "id": "a5b378a1",
   "metadata": {},
   "outputs": [],
   "source": []
  }
 ],
 "metadata": {
  "kernelspec": {
   "display_name": "Python 3",
   "language": "python",
   "name": "python3"
  },
  "language_info": {
   "codemirror_mode": {
    "name": "ipython",
    "version": 3
   },
   "file_extension": ".py",
   "mimetype": "text/x-python",
   "name": "python",
   "nbconvert_exporter": "python",
   "pygments_lexer": "ipython3",
   "version": "3.8.8"
  }
 },
 "nbformat": 4,
 "nbformat_minor": 5
}
