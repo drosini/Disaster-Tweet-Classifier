{
 "cells": [
  {
   "cell_type": "code",
   "execution_count": 1,
   "id": "3f4a3e3b",
   "metadata": {},
   "outputs": [],
   "source": [
    "import pandas as pd\n",
    "import numpy as np\n",
    "\n",
    "import nltk\n",
    "import tensorflow as tf\n",
    "import keras"
   ]
  },
  {
   "cell_type": "markdown",
   "id": "3871057d",
   "metadata": {},
   "source": [
    "## Importing Data\n",
    "\n",
    "##### Importing"
   ]
  },
  {
   "cell_type": "code",
   "execution_count": 2,
   "id": "2b33e8f8",
   "metadata": {},
   "outputs": [],
   "source": [
    "dataPath = r'C:\\Users\\drosi\\Desktop\\School\\NLP\\Final\\data\\train.csv'\n",
    "\n",
    "data = pd.read_csv(dataPath)\n",
    "\n",
    "tweets = data['text']\n",
    "targets = data['target']"
   ]
  },
  {
   "cell_type": "markdown",
   "id": "528ad946",
   "metadata": {},
   "source": [
    "##### Visualizing the Data"
   ]
  },
  {
   "cell_type": "code",
   "execution_count": 3,
   "id": "ba0fe0a6",
   "metadata": {},
   "outputs": [
    {
     "name": "stdout",
     "output_type": "stream",
     "text": [
      "<class 'pandas.core.frame.DataFrame'>\n",
      "RangeIndex: 7613 entries, 0 to 7612\n",
      "Data columns (total 5 columns):\n",
      " #   Column    Non-Null Count  Dtype \n",
      "---  ------    --------------  ----- \n",
      " 0   id        7613 non-null   int64 \n",
      " 1   keyword   7552 non-null   object\n",
      " 2   location  5080 non-null   object\n",
      " 3   text      7613 non-null   object\n",
      " 4   target    7613 non-null   int64 \n",
      "dtypes: int64(2), object(3)\n",
      "memory usage: 297.5+ KB\n"
     ]
    }
   ],
   "source": [
    "data.info()"
   ]
  },
  {
   "cell_type": "code",
   "execution_count": 4,
   "id": "8fa46502",
   "metadata": {},
   "outputs": [
    {
     "data": {
      "text/html": [
       "<div>\n",
       "<style scoped>\n",
       "    .dataframe tbody tr th:only-of-type {\n",
       "        vertical-align: middle;\n",
       "    }\n",
       "\n",
       "    .dataframe tbody tr th {\n",
       "        vertical-align: top;\n",
       "    }\n",
       "\n",
       "    .dataframe thead th {\n",
       "        text-align: right;\n",
       "    }\n",
       "</style>\n",
       "<table border=\"1\" class=\"dataframe\">\n",
       "  <thead>\n",
       "    <tr style=\"text-align: right;\">\n",
       "      <th></th>\n",
       "      <th>id</th>\n",
       "      <th>keyword</th>\n",
       "      <th>location</th>\n",
       "      <th>text</th>\n",
       "      <th>target</th>\n",
       "    </tr>\n",
       "  </thead>\n",
       "  <tbody>\n",
       "    <tr>\n",
       "      <th>0</th>\n",
       "      <td>1</td>\n",
       "      <td>NaN</td>\n",
       "      <td>NaN</td>\n",
       "      <td>Our Deeds are the Reason of this #earthquake M...</td>\n",
       "      <td>1</td>\n",
       "    </tr>\n",
       "    <tr>\n",
       "      <th>1</th>\n",
       "      <td>4</td>\n",
       "      <td>NaN</td>\n",
       "      <td>NaN</td>\n",
       "      <td>Forest fire near La Ronge Sask. Canada</td>\n",
       "      <td>1</td>\n",
       "    </tr>\n",
       "    <tr>\n",
       "      <th>2</th>\n",
       "      <td>5</td>\n",
       "      <td>NaN</td>\n",
       "      <td>NaN</td>\n",
       "      <td>All residents asked to 'shelter in place' are ...</td>\n",
       "      <td>1</td>\n",
       "    </tr>\n",
       "    <tr>\n",
       "      <th>3</th>\n",
       "      <td>6</td>\n",
       "      <td>NaN</td>\n",
       "      <td>NaN</td>\n",
       "      <td>13,000 people receive #wildfires evacuation or...</td>\n",
       "      <td>1</td>\n",
       "    </tr>\n",
       "    <tr>\n",
       "      <th>4</th>\n",
       "      <td>7</td>\n",
       "      <td>NaN</td>\n",
       "      <td>NaN</td>\n",
       "      <td>Just got sent this photo from Ruby #Alaska as ...</td>\n",
       "      <td>1</td>\n",
       "    </tr>\n",
       "  </tbody>\n",
       "</table>\n",
       "</div>"
      ],
      "text/plain": [
       "   id keyword location                                               text  \\\n",
       "0   1     NaN      NaN  Our Deeds are the Reason of this #earthquake M...   \n",
       "1   4     NaN      NaN             Forest fire near La Ronge Sask. Canada   \n",
       "2   5     NaN      NaN  All residents asked to 'shelter in place' are ...   \n",
       "3   6     NaN      NaN  13,000 people receive #wildfires evacuation or...   \n",
       "4   7     NaN      NaN  Just got sent this photo from Ruby #Alaska as ...   \n",
       "\n",
       "   target  \n",
       "0       1  \n",
       "1       1  \n",
       "2       1  \n",
       "3       1  \n",
       "4       1  "
      ]
     },
     "execution_count": 4,
     "metadata": {},
     "output_type": "execute_result"
    }
   ],
   "source": [
    "data.head()"
   ]
  },
  {
   "cell_type": "code",
   "execution_count": 5,
   "id": "d2389ae3",
   "metadata": {},
   "outputs": [
    {
     "data": {
      "text/html": [
       "<div>\n",
       "<style scoped>\n",
       "    .dataframe tbody tr th:only-of-type {\n",
       "        vertical-align: middle;\n",
       "    }\n",
       "\n",
       "    .dataframe tbody tr th {\n",
       "        vertical-align: top;\n",
       "    }\n",
       "\n",
       "    .dataframe thead th {\n",
       "        text-align: right;\n",
       "    }\n",
       "</style>\n",
       "<table border=\"1\" class=\"dataframe\">\n",
       "  <thead>\n",
       "    <tr style=\"text-align: right;\">\n",
       "      <th></th>\n",
       "      <th>id</th>\n",
       "      <th>keyword</th>\n",
       "      <th>location</th>\n",
       "      <th>text</th>\n",
       "      <th>target</th>\n",
       "    </tr>\n",
       "  </thead>\n",
       "  <tbody>\n",
       "    <tr>\n",
       "      <th>7608</th>\n",
       "      <td>10869</td>\n",
       "      <td>NaN</td>\n",
       "      <td>NaN</td>\n",
       "      <td>Two giant cranes holding a bridge collapse int...</td>\n",
       "      <td>1</td>\n",
       "    </tr>\n",
       "    <tr>\n",
       "      <th>7609</th>\n",
       "      <td>10870</td>\n",
       "      <td>NaN</td>\n",
       "      <td>NaN</td>\n",
       "      <td>@aria_ahrary @TheTawniest The out of control w...</td>\n",
       "      <td>1</td>\n",
       "    </tr>\n",
       "    <tr>\n",
       "      <th>7610</th>\n",
       "      <td>10871</td>\n",
       "      <td>NaN</td>\n",
       "      <td>NaN</td>\n",
       "      <td>M1.94 [01:04 UTC]?5km S of Volcano Hawaii. htt...</td>\n",
       "      <td>1</td>\n",
       "    </tr>\n",
       "    <tr>\n",
       "      <th>7611</th>\n",
       "      <td>10872</td>\n",
       "      <td>NaN</td>\n",
       "      <td>NaN</td>\n",
       "      <td>Police investigating after an e-bike collided ...</td>\n",
       "      <td>1</td>\n",
       "    </tr>\n",
       "    <tr>\n",
       "      <th>7612</th>\n",
       "      <td>10873</td>\n",
       "      <td>NaN</td>\n",
       "      <td>NaN</td>\n",
       "      <td>The Latest: More Homes Razed by Northern Calif...</td>\n",
       "      <td>1</td>\n",
       "    </tr>\n",
       "  </tbody>\n",
       "</table>\n",
       "</div>"
      ],
      "text/plain": [
       "         id keyword location  \\\n",
       "7608  10869     NaN      NaN   \n",
       "7609  10870     NaN      NaN   \n",
       "7610  10871     NaN      NaN   \n",
       "7611  10872     NaN      NaN   \n",
       "7612  10873     NaN      NaN   \n",
       "\n",
       "                                                   text  target  \n",
       "7608  Two giant cranes holding a bridge collapse int...       1  \n",
       "7609  @aria_ahrary @TheTawniest The out of control w...       1  \n",
       "7610  M1.94 [01:04 UTC]?5km S of Volcano Hawaii. htt...       1  \n",
       "7611  Police investigating after an e-bike collided ...       1  \n",
       "7612  The Latest: More Homes Razed by Northern Calif...       1  "
      ]
     },
     "execution_count": 5,
     "metadata": {},
     "output_type": "execute_result"
    }
   ],
   "source": [
    "data.tail()"
   ]
  },
  {
   "cell_type": "code",
   "execution_count": 57,
   "id": "3a8f72e8",
   "metadata": {},
   "outputs": [
    {
     "name": "stderr",
     "output_type": "stream",
     "text": [
      "C:\\Users\\drosi\\anaconda3\\lib\\site-packages\\seaborn\\_decorators.py:36: FutureWarning: Pass the following variable as a keyword arg: x. From version 0.12, the only valid positional argument will be `data`, and passing other arguments without an explicit keyword will result in an error or misinterpretation.\n",
      "  warnings.warn(\n"
     ]
    },
    {
     "data": {
      "image/png": "[encoded data removed]",
      "text/plain": [
       "<Figure size 1152x576 with 1 Axes>"
      ]
     },
     "metadata": {
      "needs_background": "light"
     },
     "output_type": "display_data"
    }
   ],
   "source": [
    "import seaborn as sns\n",
    "import matplotlib.pyplot as plt\n",
    "\n",
    "plt.figure(figsize = (16, 8))\n",
    "sns.countplot(targets)\n",
    "plt.title(\"Target Labels Counts\", size = 25)\n",
    "plt.xlabel(\"Label\", size = 20)\n",
    "plt.ylabel(\"Count\", size = 20)\n",
    "plt.show()"
   ]
  },
  {
   "cell_type": "markdown",
   "id": "20a21860",
   "metadata": {},
   "source": [
    "## Data Preprocessing"
   ]
  },
  {
   "cell_type": "markdown",
   "id": "b20a7270",
   "metadata": {},
   "source": [
    "##### Clean the Text"
   ]
  },
  {
   "cell_type": "code",
   "execution_count": 7,
   "id": "aa520e45",
   "metadata": {},
   "outputs": [],
   "source": [
    "import re\n",
    "import string\n",
    "from nltk.corpus import stopwords\n",
    "\n",
    "def cleanTweet(tweet):\n",
    "    \n",
    "    #Lowercasing\n",
    "    tweet = tweet.lower()\n",
    "    \n",
    "    #Remove Hashtags, Stock Market Symbols, Retweet Symbols, and Links\n",
    "    tweet = re.sub(r'\\$\\w*', '', tweet)\n",
    "    tweet = re.sub(r'^RT[\\s]+', '', tweet)\n",
    "    tweet = re.sub(r'(https|http)?:\\/\\/(\\w|\\.|\\/|\\?|\\=|\\&|\\%)*\\b', '', tweet)\n",
    "    tweet = re.sub(r'#', '', tweet)\n",
    "    \n",
    "    #Removing Punctuation\n",
    "    tweet = re.sub(r'[^\\w\\s]', '', tweet)\n",
    "    \n",
    "    #Removing Stopwords\n",
    "    Stopwords = set(stopwords.words(\"english\"))\n",
    "    tweet = \" \".join(word for word in tweet.split() if word not in Stopwords)\n",
    "\n",
    "    return tweet"
   ]
  },
  {
   "cell_type": "code",
   "execution_count": 15,
   "id": "d101e72b",
   "metadata": {
    "scrolled": true
   },
   "outputs": [
    {
     "name": "stderr",
     "output_type": "stream",
     "text": [
      "<ipython-input-15-da51fdfaac05>:5: SettingWithCopyWarning: \n",
      "A value is trying to be set on a copy of a slice from a DataFrame\n",
      "\n",
      "See the caveats in the documentation: https://pandas.pydata.org/pandas-docs/stable/user_guide/indexing.html#returning-a-view-versus-a-copy\n",
      "  tweets[i] = tweet\n"
     ]
    }
   ],
   "source": [
    "#Cleaning Tweets\n",
    "for i in range(len(tweets)):\n",
    "    tweet = tweets[i]\n",
    "    tweet = cleanTweet(tweet)\n",
    "    tweets[i] = tweet"
   ]
  },
  {
   "cell_type": "markdown",
   "id": "77285754",
   "metadata": {},
   "source": [
    "##### Splitting Data"
   ]
  },
  {
   "cell_type": "code",
   "execution_count": 16,
   "id": "0f2f376d",
   "metadata": {},
   "outputs": [
    {
     "name": "stdout",
     "output_type": "stream",
     "text": [
      "training -->  (5823,) (5823,)\n",
      "validation -->  (1028,) (1028,)\n",
      "testing -->  (762,) (762,)\n"
     ]
    }
   ],
   "source": [
    "from sklearn.model_selection import train_test_split\n",
    "\n",
    "input_train, input_test, target_train, target_test =  train_test_split(tweets, targets, test_size = 0.10, train_size = 0.90)\n",
    "\n",
    "input_train, input_valid, target_train, target_valid = train_test_split(input_train, target_train, test_size = 0.15, train_size = 0.85)\n",
    "\n",
    "print('training --> ', input_train.shape, target_train.shape)\n",
    "print('validation --> ', input_valid.shape, target_valid.shape)\n",
    "print('testing --> ', input_test.shape, target_test.shape)\n"
   ]
  },
  {
   "cell_type": "markdown",
   "id": "15f46c58",
   "metadata": {},
   "source": [
    "##### Tokenization"
   ]
  },
  {
   "cell_type": "code",
   "execution_count": 17,
   "id": "befbd172",
   "metadata": {},
   "outputs": [
    {
     "name": "stdout",
     "output_type": "stream",
     "text": [
      "Voacb Length -->  15087\n"
     ]
    }
   ],
   "source": [
    "from keras.preprocessing.text import Tokenizer\n",
    "from keras.preprocessing.sequence import pad_sequences\n",
    "\n",
    "embedding_dim = len(tweets)\n",
    "\n",
    "#Fitting Tokenizer with entire Corpus of Tweets\n",
    "tokenizer = Tokenizer(embedding_dim)\n",
    "tokenizer.fit_on_texts(input_train)\n",
    "\n",
    "#Vocab of Unique Words in Entire Corpus\n",
    "vocab = tokenizer.word_index\n",
    "print(\"Voacb Length --> \", len(vocab))"
   ]
  },
  {
   "cell_type": "code",
   "execution_count": 18,
   "id": "0cd5c492",
   "metadata": {},
   "outputs": [],
   "source": [
    "max_len = 32\n",
    "\n",
    "#Tokenizing and Padding Training Data\n",
    "input_train = tokenizer.texts_to_sequences(input_train)\n",
    "input_train = pad_sequences(input_train, maxlen = max_len, truncating = 'post', padding = 'post')\n",
    "\n",
    "#Tokenizing and Padding Validation Data\n",
    "input_valid = tokenizer.texts_to_sequences(input_valid)\n",
    "input_valid = pad_sequences(input_valid, maxlen = max_len, truncating = 'post', padding = 'post')\n",
    "\n",
    "#Tokenizing and Paddding Testing Data\n",
    "input_test = tokenizer.texts_to_sequences(input_test)\n",
    "input_test = pad_sequences(input_test, maxlen = max_len, truncating = 'post', padding = 'post')"
   ]
  },
  {
   "cell_type": "markdown",
   "id": "f7a37fde",
   "metadata": {},
   "source": [
    "## GloVe Embeddings\n",
    "\n",
    "##### Building word2vec Dictionary "
   ]
  },
  {
   "cell_type": "code",
   "execution_count": 19,
   "id": "06f9bf8f",
   "metadata": {},
   "outputs": [],
   "source": [
    "#Path to glove pretrained 100 dimension twitter embeddings\n",
    "embeddingPath = r'C:\\Users\\drosi\\Desktop\\School\\NLP\\Final\\data\\glove.twitter.27B.100d.txt'\n",
    "\n",
    "#Creating word2vec dictionary \n",
    "word2vec = {}\n",
    "with open(embeddingPath, encoding = \"cp850\") as embeddings:\n",
    "    \n",
    "    for line in embeddings:\n",
    "        \n",
    "        values = line.split()\n",
    "        \n",
    "        #Word is in the First Position for each Line\n",
    "        word = values[0]\n",
    "        \n",
    "        #Embedding Vector is the Rest of the Line\n",
    "        vectors = np.asarray(values[1:], 'float32')\n",
    "        \n",
    "        #Adding Word and Embedding Vector to Dictionary\n",
    "        word2vec[word] = vectors\n",
    "\n",
    "embeddings.close()"
   ]
  },
  {
   "cell_type": "markdown",
   "id": "255ad5de",
   "metadata": {},
   "source": [
    "##### Building Embedding Matrix"
   ]
  },
  {
   "cell_type": "code",
   "execution_count": 20,
   "id": "215cc91e",
   "metadata": {},
   "outputs": [],
   "source": [
    "#matrix dimesnion --> vocab length x dimension of embedding vector\n",
    "embedding_matrix = np.zeros((embedding_dim + 1, 100))\n",
    "\n",
    "for i, word in tokenizer.index_word.items():\n",
    "    \n",
    "    if i < (embedding_dim + 1):\n",
    "        #getting embedding vector for each word\n",
    "        vector = word2vec.get(word)\n",
    "        \n",
    "        if vector is not None:\n",
    "            #adding embedding vector to matrix\n",
    "            embedding_matrix[i] = vector"
   ]
  },
  {
   "cell_type": "markdown",
   "id": "9160b763",
   "metadata": {},
   "source": [
    "## Model\n",
    "\n",
    "##### Importing Libraries and Hyper-Parameters"
   ]
  },
  {
   "cell_type": "code",
   "execution_count": 22,
   "id": "f7d2e489",
   "metadata": {},
   "outputs": [],
   "source": [
    "from keras.models import Sequential, Model\n",
    "from keras.layers import Embedding, LSTM, Dense, Dropout, Bidirectional,Flatten, TimeDistributed\n",
    "from keras.initializers import Constant\n",
    "from keras import Input"
   ]
  },
  {
   "cell_type": "code",
   "execution_count": 23,
   "id": "d34b1fef",
   "metadata": {},
   "outputs": [],
   "source": [
    "max_len = 32\n",
    "embedding_dim = len(tweets)\n",
    "output_dim = 100"
   ]
  },
  {
   "cell_type": "markdown",
   "id": "caaed0e4",
   "metadata": {},
   "source": [
    "##### Building  Bi-Directional RNN Model"
   ]
  },
  {
   "cell_type": "code",
   "execution_count": 66,
   "id": "7ab45c89",
   "metadata": {},
   "outputs": [],
   "source": [
    "#Bi-Directional RNN Class\n",
    "class BiDirectionalRNN(tf.keras.Model):\n",
    "\n",
    "    def __init__(self, \n",
    "                 max_len,\n",
    "                 embedding_dim,\n",
    "                 output_dim,\n",
    "                 embedding_matrix):\n",
    "        \n",
    "        super(BiDirectionalRNN, self).__init__()\n",
    "             \n",
    "        #Embedding Layer\n",
    "        self.embedding = Embedding(input_dim = embedding_dim + 1, output_dim = output_dim, \n",
    "                                   embeddings_initializer = Constant(embedding_matrix), \n",
    "                                   input_length = max_len, trainable = False)\n",
    "        \n",
    "        #Bidirectional Layers with LSTM \n",
    "        self.bidirectional1 = Bidirectional(LSTM(100, return_sequences = True))\n",
    "        self.bidirectional2 = Bidirectional(LSTM(100))\n",
    "        \n",
    "        \n",
    "        #Output Layer with sigmoid activation function\n",
    "        self.outputs = Dense(2, activation=\"sigmoid\")\n",
    "\n",
    "    def call(self, inputs):\n",
    "        \n",
    "        x = self.embedding(inputs)\n",
    "        x = self.bidirectional1(x)\n",
    "        x = self.bidirectional2(x)\n",
    "        \n",
    "        return self.outputs(x)\n",
    "\n"
   ]
  },
  {
   "cell_type": "code",
   "execution_count": 67,
   "id": "d2b672a3",
   "metadata": {},
   "outputs": [],
   "source": [
    "model = BiDirectionalRNN(max_len, embedding_dim, output_dim, embedding_matrix)\n",
    "\n",
    "model.compile(loss= 'sparse_categorical_crossentropy', optimizer = 'adam', metrics = ['accuracy'])\n"
   ]
  },
  {
   "cell_type": "markdown",
   "id": "b1b667b5",
   "metadata": {},
   "source": [
    "##### Fitting Model"
   ]
  },
  {
   "cell_type": "code",
   "execution_count": 68,
   "id": "be2090b5",
   "metadata": {
    "scrolled": false
   },
   "outputs": [
    {
     "name": "stdout",
     "output_type": "stream",
     "text": [
      "Epoch 1/15\n",
      "182/182 [==============================] - 29s 126ms/step - loss: 0.4703 - accuracy: 0.7884 - val_loss: 0.4603 - val_accuracy: 0.7996\n",
      "Epoch 2/15\n",
      "182/182 [==============================] - 22s 119ms/step - loss: 0.4231 - accuracy: 0.8126 - val_loss: 0.4534 - val_accuracy: 0.7938\n",
      "Epoch 3/15\n",
      "182/182 [==============================] - 21s 115ms/step - loss: 0.4031 - accuracy: 0.8197 - val_loss: 0.4645 - val_accuracy: 0.7772\n",
      "Epoch 4/15\n",
      "182/182 [==============================] - 21s 114ms/step - loss: 0.3790 - accuracy: 0.8315 - val_loss: 0.4534 - val_accuracy: 0.7928\n",
      "Epoch 5/15\n",
      "182/182 [==============================] - 20s 112ms/step - loss: 0.3506 - accuracy: 0.8490 - val_loss: 0.4802 - val_accuracy: 0.7909\n",
      "Epoch 6/15\n",
      "182/182 [==============================] - 20s 110ms/step - loss: 0.3179 - accuracy: 0.8657 - val_loss: 0.5354 - val_accuracy: 0.7889\n",
      "Epoch 7/15\n",
      "182/182 [==============================] - 20s 112ms/step - loss: 0.2757 - accuracy: 0.8815 - val_loss: 0.5411 - val_accuracy: 0.7831\n",
      "Epoch 8/15\n",
      "182/182 [==============================] - 21s 117ms/step - loss: 0.2363 - accuracy: 0.9025 - val_loss: 0.6281 - val_accuracy: 0.7977\n",
      "Epoch 9/15\n",
      "182/182 [==============================] - 21s 113ms/step - loss: 0.1982 - accuracy: 0.9179 - val_loss: 0.6600 - val_accuracy: 0.7909\n",
      "Epoch 10/15\n",
      "182/182 [==============================] - 21s 117ms/step - loss: 0.1607 - accuracy: 0.9335 - val_loss: 0.7603 - val_accuracy: 0.7568\n",
      "Epoch 11/15\n",
      "182/182 [==============================] - 21s 117ms/step - loss: 0.1234 - accuracy: 0.9533 - val_loss: 0.9219 - val_accuracy: 0.7626\n",
      "Epoch 12/15\n",
      "182/182 [==============================] - 21s 116ms/step - loss: 0.1066 - accuracy: 0.9603 - val_loss: 0.8473 - val_accuracy: 0.7763\n",
      "Epoch 13/15\n",
      "182/182 [==============================] - 21s 115ms/step - loss: 0.0898 - accuracy: 0.9645 - val_loss: 1.1176 - val_accuracy: 0.7860\n",
      "Epoch 14/15\n",
      "182/182 [==============================] - 23s 128ms/step - loss: 0.0756 - accuracy: 0.9696 - val_loss: 1.2305 - val_accuracy: 0.7665\n",
      "Epoch 15/15\n",
      "182/182 [==============================] - 21s 114ms/step - loss: 0.0700 - accuracy: 0.9717 - val_loss: 1.1751 - val_accuracy: 0.7675\n"
     ]
    }
   ],
   "source": [
    "history = model.fit(input_train, target_train, epochs = 15, batch_size = 32, \n",
    "                    validation_data = (input_valid, target_valid))"
   ]
  },
  {
   "cell_type": "markdown",
   "id": "9e9165ed",
   "metadata": {},
   "source": [
    "##### Evaluating the Model"
   ]
  },
  {
   "cell_type": "code",
   "execution_count": 46,
   "id": "b24d720d",
   "metadata": {},
   "outputs": [
    {
     "name": "stdout",
     "output_type": "stream",
     "text": [
      "Model: \"bi_directional_rnn_6\"\n",
      "_________________________________________________________________\n",
      " Layer (type)                Output Shape              Param #   \n",
      "=================================================================\n",
      " embedding_6 (Embedding)     multiple                  761400    \n",
      "                                                                 \n",
      " bidirectional_12 (Bidirecti  multiple                 160800    \n",
      " onal)                                                           \n",
      "                                                                 \n",
      " bidirectional_13 (Bidirecti  multiple                 240800    \n",
      " onal)                                                           \n",
      "                                                                 \n",
      " dense_6 (Dense)             multiple                  402       \n",
      "                                                                 \n",
      "=================================================================\n",
      "Total params: 1,163,402\n",
      "Trainable params: 402,002\n",
      "Non-trainable params: 761,400\n",
      "_________________________________________________________________\n"
     ]
    }
   ],
   "source": [
    "model.summary()"
   ]
  },
  {
   "cell_type": "code",
   "execution_count": 69,
   "id": "a2dec838",
   "metadata": {},
   "outputs": [
    {
     "data": {
      "image/png": "[encoded data removed]",
      "text/plain": [
       "<Figure size 1152x576 with 1 Axes>"
      ]
     },
     "metadata": {
      "needs_background": "light"
     },
     "output_type": "display_data"
    }
   ],
   "source": [
    "plt.figure(figsize=(16, 8))\n",
    "epochs = range(1, len(history.history['accuracy']) + 1)\n",
    "plt.title(\"Model 1: Training vs Validation Loss\", size = 25)\n",
    "plt.plot(epochs, history.history['loss'], 'b', label='Training Loss', color='red')\n",
    "plt.plot(epochs, history.history['val_loss'], 'b', label='Validation Loss')\n",
    "plt.legend()\n",
    "plt.show()"
   ]
  },
  {
   "cell_type": "markdown",
   "id": "eeee3aa8",
   "metadata": {},
   "source": [
    "##### Improving Models Results\n",
    "\n",
    "Model seems to be overfitting to the training data. The model will be retrained with fewer epochs."
   ]
  },
  {
   "cell_type": "code",
   "execution_count": 48,
   "id": "719f7c13",
   "metadata": {},
   "outputs": [
    {
     "name": "stdout",
     "output_type": "stream",
     "text": [
      "Epoch 1/5\n",
      "182/182 [==============================] - 20s 78ms/step - loss: 0.4654 - accuracy: 0.7937 - val_loss: 0.4620 - val_accuracy: 0.7889\n",
      "Epoch 2/5\n",
      "182/182 [==============================] - 19s 104ms/step - loss: 0.4233 - accuracy: 0.8123 - val_loss: 0.4458 - val_accuracy: 0.7967\n",
      "Epoch 3/5\n",
      "182/182 [==============================] - 19s 103ms/step - loss: 0.3985 - accuracy: 0.8214 - val_loss: 0.4420 - val_accuracy: 0.8054\n",
      "Epoch 4/5\n",
      "182/182 [==============================] - 19s 102ms/step - loss: 0.3781 - accuracy: 0.8374 - val_loss: 0.4546 - val_accuracy: 0.7928\n",
      "Epoch 5/5\n",
      "182/182 [==============================] - 19s 103ms/step - loss: 0.3511 - accuracy: 0.8489 - val_loss: 0.4738 - val_accuracy: 0.7938\n"
     ]
    }
   ],
   "source": [
    "model2 = BiDirectionalRNN(max_len, embedding_dim, output_dim, embedding_matrix)\n",
    "\n",
    "model2.compile(loss= 'sparse_categorical_crossentropy', optimizer = 'adam', metrics = ['accuracy'])\n",
    "\n",
    "history2 = model2.fit(input_train, target_train, epochs = 5, batch_size = 32, \n",
    "                    validation_data = (input_valid, target_valid))\n"
   ]
  },
  {
   "cell_type": "code",
   "execution_count": 49,
   "id": "9907f7b0",
   "metadata": {},
   "outputs": [
    {
     "data": {
      "image/png": "[encoded data removed]",
      "text/plain": [
       "<Figure size 1152x576 with 1 Axes>"
      ]
     },
     "metadata": {
      "needs_background": "light"
     },
     "output_type": "display_data"
    }
   ],
   "source": [
    "plt.figure(figsize=(16, 8))\n",
    "epochs = range(1, len(history2.history['accuracy']) + 1)\n",
    "plt.title(\"Model 2: Training vs Validation Loss\", size = 25)\n",
    "plt.plot(epochs, history2.history['loss'], 'b', label='Training Loss', color='red')\n",
    "plt.plot(epochs, history2.history['val_loss'], 'b', label='Validation Loss')\n",
    "plt.legend()\n",
    "plt.show()"
   ]
  },
  {
   "cell_type": "code",
   "execution_count": 51,
   "id": "dc30c450",
   "metadata": {},
   "outputs": [
    {
     "name": "stdout",
     "output_type": "stream",
     "text": [
      "Epoch 1/3\n",
      "182/182 [==============================] - 27s 117ms/step - loss: 0.4706 - accuracy: 0.7841 - val_loss: 0.4648 - val_accuracy: 0.7879\n",
      "Epoch 2/3\n",
      "182/182 [==============================] - 20s 108ms/step - loss: 0.4229 - accuracy: 0.8135 - val_loss: 0.4516 - val_accuracy: 0.7928\n",
      "Epoch 3/3\n",
      "182/182 [==============================] - 20s 111ms/step - loss: 0.3996 - accuracy: 0.8195 - val_loss: 0.4438 - val_accuracy: 0.7977\n"
     ]
    }
   ],
   "source": [
    "model3 = BiDirectionalRNN(max_len, embedding_dim, output_dim, embedding_matrix)\n",
    "\n",
    "model3.compile(loss= 'sparse_categorical_crossentropy', optimizer = 'adam', metrics = ['accuracy'])\n",
    "\n",
    "history3 = model3.fit(input_train, target_train, epochs = 3, batch_size = 32, \n",
    "                    validation_data = (input_valid, target_valid))"
   ]
  },
  {
   "cell_type": "code",
   "execution_count": 53,
   "id": "84c971e8",
   "metadata": {},
   "outputs": [
    {
     "data": {
      "image/png": "[encoded data removed]",
      "text/plain": [
       "<Figure size 1152x576 with 1 Axes>"
      ]
     },
     "metadata": {
      "needs_background": "light"
     },
     "output_type": "display_data"
    }
   ],
   "source": [
    "plt.figure(figsize=(16, 8))\n",
    "epochs = range(1, len(history3.history['accuracy']) + 1)\n",
    "plt.title(\"Model 3: Training vs Validation Loss\", size = 25)\n",
    "plt.plot(epochs, history3.history['loss'], 'b', label='Training Loss', color='red')\n",
    "plt.plot(epochs, history3.history['val_loss'], 'b', label='Validation Loss')\n",
    "plt.legend()\n",
    "plt.show()"
   ]
  },
  {
   "cell_type": "markdown",
   "id": "a5d5b172",
   "metadata": {},
   "source": [
    "##### Testing the Models on Training Data\n"
   ]
  },
  {
   "cell_type": "code",
   "execution_count": 70,
   "id": "7f6c4d2d",
   "metadata": {},
   "outputs": [
    {
     "name": "stdout",
     "output_type": "stream",
     "text": [
      "24/24 - 1s - loss: 1.0677 - accuracy: 0.7808 - 1s/epoch - 50ms/step\n",
      "Accuracy of Model 1 --> 78.083992\n"
     ]
    }
   ],
   "source": [
    "#Model 1 Results\n",
    "loss, accuracy = model.evaluate(input_test, target_test, verbose = 2)\n",
    "print('Accuracy of Model 1 --> %f' % (accuracy * 100))"
   ]
  },
  {
   "cell_type": "code",
   "execution_count": 55,
   "id": "34f1e584",
   "metadata": {
    "scrolled": true
   },
   "outputs": [
    {
     "name": "stdout",
     "output_type": "stream",
     "text": [
      "24/24 - 1s - loss: 0.4518 - accuracy: 0.8005 - 1s/epoch - 48ms/step\n",
      "Accuracy of Model 2 --> 80.052495\n"
     ]
    }
   ],
   "source": [
    "#Model 2 Results\n",
    "loss, accuracy = model2.evaluate(input_test, target_test, verbose = 2)\n",
    "print('Accuracy of Model 2 --> %f' % (accuracy * 100))"
   ]
  },
  {
   "cell_type": "code",
   "execution_count": 56,
   "id": "b5e213e5",
   "metadata": {},
   "outputs": [
    {
     "name": "stdout",
     "output_type": "stream",
     "text": [
      "24/24 - 1s - loss: 0.4431 - accuracy: 0.7966 - 1s/epoch - 48ms/step\n",
      "Accuracy of Model 3 --> 79.658794\n"
     ]
    }
   ],
   "source": [
    "#Model 3 Results\n",
    "loss, accuracy = model3.evaluate(input_test, target_test, verbose = 2)\n",
    "print('Accuracy of Model 3 --> %f' % (accuracy * 100))"
   ]
  },
  {
   "cell_type": "code",
   "execution_count": 59,
   "id": "4828523e",
   "metadata": {},
   "outputs": [
    {
     "data": {
      "text/plain": [
       "array([[0.3127395 , 0.6984325 ],\n",
       "       [0.06379077, 0.93480206],\n",
       "       [0.71493965, 0.26554656],\n",
       "       [0.1470621 , 0.83318794],\n",
       "       [0.68142146, 0.3078317 ]], dtype=float32)"
      ]
     },
     "execution_count": 59,
     "metadata": {},
     "output_type": "execute_result"
    }
   ],
   "source": [
    "samples_to_predict = input_test[ : 5]\n",
    "samples = np.array(samples_to_predict)\n",
    "\n",
    "model3.predict(samples)"
   ]
  }
 ],
 "metadata": {
  "kernelspec": {
   "display_name": "Python 3",
   "language": "python",
   "name": "python3"
  },
  "language_info": {
   "codemirror_mode": {
    "name": "ipython",
    "version": 3
   },
   "file_extension": ".py",
   "mimetype": "text/x-python",
   "name": "python",
   "nbconvert_exporter": "python",
   "pygments_lexer": "ipython3",
   "version": "3.8.8"
  }
 },
 "nbformat": 4,
 "nbformat_minor": 5
}
